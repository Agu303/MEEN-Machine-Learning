{
 "cells": [
  {
   "cell_type": "markdown",
   "metadata": {},
   "source": [
    "# Project 1"
   ]
  },
  {
   "cell_type": "code",
   "execution_count": null,
   "metadata": {},
   "outputs": [],
   "source": [
    "import numpy as np\n",
    "import joblib\n",
    "import json\n",
    "from sklearn.metrics import r2_score, mean_squared_error"
   ]
  },
  {
   "cell_type": "markdown",
   "metadata": {},
   "source": [
    "## 1. Load the Trained Models\n",
    "\n",
    "Load the pre-trained model that was saved during the training phase."
   ]
  },
  {
   "cell_type": "code",
   "execution_count": 8,
   "metadata": {},
   "outputs": [
    {
     "name": "stdout",
     "output_type": "stream",
     "text": [
      "Models loaded successfully.\n"
     ]
    }
   ],
   "source": [
    "try:\n",
    "    rf_model = joblib.load('rf_model.pkl')\n",
    "    xgb_model = joblib.load('xgb_model.pkl')\n",
    "    print(\"Models loaded successfully.\")\n",
    "except FileNotFoundError:\n",
    "    print(\"Error: Could not find model files\")\n",
    "    exit()"
   ]
  },
  {
   "cell_type": "markdown",
   "metadata": {},
   "source": [
    "## 2. Load test data\n"
   ]
  },
  {
   "cell_type": "code",
   "execution_count": null,
   "metadata": {},
   "outputs": [],
   "source": [
    "# Make sure to use test_data.json!! (use same format found in train_model)\n",
    "with open('test_data.json', 'r') as f:\n",
    "    test_data = json.load(f)\n",
    "\n",
    "def extract_features(data):\n",
    "    features = []\n",
    "    for sample in data:\n",
    "        interface_prop = sample['interface_prop']\n",
    "        strain = sample['strain']\n",
    "        for i in range(len(strain)):\n",
    "            features.append(np.append(interface_prop, strain[i]))\n",
    "    return np.vstack(features)\n",
    "\n",
    "X_test = extract_features(test_data)"
   ]
  },
  {
   "cell_type": "markdown",
   "metadata": {},
   "source": [
    "## 3.  Model Predicting"
   ]
  },
  {
   "cell_type": "code",
   "execution_count": null,
   "metadata": {},
   "outputs": [],
   "source": [
    "rf_preds = rf_model.predict(X_test)\n",
    "xgb_preds = xgb_model.predict(X_test)\n",
    "\n",
    "# Combined (\n",
    "combined_preds = (rf_preds + xgb_preds) / 2"
   ]
  },
  {
   "cell_type": "markdown",
   "metadata": {},
   "source": [
    "## 4. Evaluation"
   ]
  },
  {
   "cell_type": "code",
   "execution_count": null,
   "metadata": {},
   "outputs": [],
   "source": [
    "def extract_labels(data):\n",
    "    labels = []\n",
    "    for sample in data:\n",
    "        labels.extend(sample['stress'])\n",
    "    return np.array(labels)\n",
    "\n",
    "y_test = extract_labels(test_data)\n",
    "\n",
    "r2 = r2_score(y_test, combined_preds)\n",
    "rmse = np.sqrt(mean_squared_error(y_test, combined_preds))\n",
    "\n",
    "print(f\"R² Score: {r2:.4f}\")\n",
    "print(f\"RMSE: {rmse:.4f}\")\n"
   ]
  }
 ],
 "metadata": {
  "kernelspec": {
   "display_name": "base",
   "language": "python",
   "name": "python3"
  },
  "language_info": {
   "codemirror_mode": {
    "name": "ipython",
    "version": 3
   },
   "file_extension": ".py",
   "mimetype": "text/x-python",
   "name": "python",
   "nbconvert_exporter": "python",
   "pygments_lexer": "ipython3",
   "version": "3.11.4"
  }
 },
 "nbformat": 4,
 "nbformat_minor": 4
}
